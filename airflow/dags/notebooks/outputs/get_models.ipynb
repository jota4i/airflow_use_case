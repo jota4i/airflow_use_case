{
 "cells": [
  {
   "cell_type": "code",
   "execution_count": 1,
   "id": "92df8689",
   "metadata": {
    "execution": {
     "iopub.execute_input": "2023-04-13T16:35:13.408776Z",
     "iopub.status.busy": "2023-04-13T16:35:13.407896Z",
     "iopub.status.idle": "2023-04-13T16:35:13.659622Z",
     "shell.execute_reply": "2023-04-13T16:35:13.658009Z"
    },
    "jupyter": {
     "source_hidden": true
    },
    "papermill": {
     "duration": 0.279621,
     "end_time": "2023-04-13T16:35:13.663177",
     "exception": false,
     "start_time": "2023-04-13T16:35:13.383556",
     "status": "completed"
    },
    "tags": []
   },
   "outputs": [],
   "source": [
    "from pyspark.sql import SparkSession"
   ]
  },
  {
   "cell_type": "code",
   "execution_count": 2,
   "id": "75422074",
   "metadata": {
    "execution": {
     "iopub.execute_input": "2023-04-13T16:35:13.693279Z",
     "iopub.status.busy": "2023-04-13T16:35:13.692228Z",
     "iopub.status.idle": "2023-04-13T16:35:13.707206Z",
     "shell.execute_reply": "2023-04-13T16:35:13.705933Z"
    },
    "jupyter": {
     "source_hidden": true
    },
    "papermill": {
     "duration": 0.030829,
     "end_time": "2023-04-13T16:35:13.709278",
     "exception": false,
     "start_time": "2023-04-13T16:35:13.678449",
     "status": "completed"
    },
    "tags": []
   },
   "outputs": [
    {
     "data": {
      "text/plain": [
       "'spark://spark:7077'"
      ]
     },
     "execution_count": 2,
     "metadata": {},
     "output_type": "execute_result"
    }
   ],
   "source": [
    "import os\n",
    "\n",
    "from dotenv import load_dotenv\n",
    "\n",
    "load_dotenv()\n",
    "\n",
    "SPARK_MASTER_ADDRESS = os.getenv(\"SPARK_MASTER_ADDRESS\")\n",
    "\n",
    "SPARK_MASTER_ADDRESS"
   ]
  },
  {
   "cell_type": "code",
   "execution_count": 3,
   "id": "3a172f92",
   "metadata": {
    "execution": {
     "iopub.execute_input": "2023-04-13T16:35:13.741503Z",
     "iopub.status.busy": "2023-04-13T16:35:13.740511Z",
     "iopub.status.idle": "2023-04-13T16:35:25.996880Z",
     "shell.execute_reply": "2023-04-13T16:35:25.994003Z"
    },
    "jupyter": {
     "source_hidden": true
    },
    "papermill": {
     "duration": 12.27902,
     "end_time": "2023-04-13T16:35:26.003366",
     "exception": false,
     "start_time": "2023-04-13T16:35:13.724346",
     "status": "completed"
    },
    "tags": []
   },
   "outputs": [
    {
     "name": "stderr",
     "output_type": "stream",
     "text": [
      "/home/airflow/.local/lib/python3.9/site-packages/pyspark/bin/load-spark-env.sh: line 68: ps: command not found\n"
     ]
    },
    {
     "name": "stderr",
     "output_type": "stream",
     "text": [
      "Setting default log level to \"WARN\".\n",
      "To adjust logging level use sc.setLogLevel(newLevel). For SparkR, use setLogLevel(newLevel).\n"
     ]
    },
    {
     "name": "stdout",
     "output_type": "stream",
     "text": [
      "23/04/13 16:35:22 WARN NativeCodeLoader: Unable to load native-hadoop library for your platform... using builtin-java classes where applicable\n"
     ]
    }
   ],
   "source": [
    "spark = SparkSession.builder \\\n",
    "    .master(SPARK_MASTER_ADDRESS) \\\n",
    "    .config(\"spark.jars\", \"https://storage.googleapis.com/hadoop-lib/gcs/gcs-connector-hadoop3-latest.jar\") \\\n",
    "    .appName(f\"notebook_spark\") \\\n",
    "    .getOrCreate()"
   ]
  },
  {
   "cell_type": "code",
   "execution_count": 4,
   "id": "fe733557",
   "metadata": {
    "execution": {
     "iopub.execute_input": "2023-04-13T16:35:26.055664Z",
     "iopub.status.busy": "2023-04-13T16:35:26.054716Z",
     "iopub.status.idle": "2023-04-13T16:35:45.326349Z",
     "shell.execute_reply": "2023-04-13T16:35:45.324126Z"
    },
    "jupyter": {
     "source_hidden": true
    },
    "papermill": {
     "duration": 19.302166,
     "end_time": "2023-04-13T16:35:45.330739",
     "exception": false,
     "start_time": "2023-04-13T16:35:26.028573",
     "status": "completed"
    },
    "tags": []
   },
   "outputs": [
    {
     "name": "stderr",
     "output_type": "stream",
     "text": [
      "\r",
      "[Stage 0:>                                                          (0 + 0) / 1]\r"
     ]
    },
    {
     "name": "stderr",
     "output_type": "stream",
     "text": [
      "\r",
      "[Stage 0:>                                                          (0 + 1) / 1]\r"
     ]
    },
    {
     "name": "stderr",
     "output_type": "stream",
     "text": [
      "\r",
      "                                                                                \r"
     ]
    }
   ],
   "source": [
    "df = spark.read.parquet(\"gs://airflow4i_lake/raw/brand/carros/*\")"
   ]
  },
  {
   "cell_type": "code",
   "execution_count": 5,
   "id": "9af0197c",
   "metadata": {
    "execution": {
     "iopub.execute_input": "2023-04-13T16:35:45.375295Z",
     "iopub.status.busy": "2023-04-13T16:35:45.373740Z",
     "iopub.status.idle": "2023-04-13T16:35:59.537439Z",
     "shell.execute_reply": "2023-04-13T16:35:59.534906Z"
    },
    "jupyter": {
     "source_hidden": true
    },
    "papermill": {
     "duration": 14.18943,
     "end_time": "2023-04-13T16:35:59.541796",
     "exception": false,
     "start_time": "2023-04-13T16:35:45.352366",
     "status": "completed"
    },
    "tags": []
   },
   "outputs": [
    {
     "name": "stderr",
     "output_type": "stream",
     "text": [
      "\r",
      "[Stage 1:>                                                          (0 + 1) / 1]\r"
     ]
    },
    {
     "name": "stderr",
     "output_type": "stream",
     "text": [
      "\r",
      "                                                                                \r"
     ]
    }
   ],
   "source": [
    "df.write.mode(\"overwrite\").parquet(\n",
    "        f\"gs://airflow4i_lake/trusted/brand/carros/\", compression=\"snappy\"\n",
    "    )"
   ]
  },
  {
   "cell_type": "code",
   "execution_count": 6,
   "id": "f2b3b480",
   "metadata": {
    "execution": {
     "iopub.execute_input": "2023-04-13T16:35:59.584369Z",
     "iopub.status.busy": "2023-04-13T16:35:59.583845Z",
     "iopub.status.idle": "2023-04-13T16:36:00.924214Z",
     "shell.execute_reply": "2023-04-13T16:36:00.922967Z"
    },
    "jupyter": {
     "source_hidden": true
    },
    "papermill": {
     "duration": 1.363604,
     "end_time": "2023-04-13T16:36:00.926496",
     "exception": false,
     "start_time": "2023-04-13T16:35:59.562892",
     "status": "completed"
    },
    "tags": []
   },
   "outputs": [
    {
     "name": "stderr",
     "output_type": "stream",
     "text": [
      "\r",
      "[Stage 2:>                                                          (0 + 1) / 1]\r"
     ]
    },
    {
     "name": "stderr",
     "output_type": "stream",
     "text": [
      "\r",
      "                                                                                \r"
     ]
    },
    {
     "data": {
      "text/plain": [
       "[Row(codigo='125', nome='SSANGYONG'),\n",
       " Row(codigo='54', nome='Subaru'),\n",
       " Row(codigo='55', nome='Suzuki'),\n",
       " Row(codigo='165', nome='TAC'),\n",
       " Row(codigo='56', nome='Toyota'),\n",
       " Row(codigo='57', nome='Troller'),\n",
       " Row(codigo='58', nome='Volvo'),\n",
       " Row(codigo='59', nome='VW - VolksWagen'),\n",
       " Row(codigo='163', nome='Wake'),\n",
       " Row(codigo='120', nome='Walk')]"
      ]
     },
     "execution_count": 6,
     "metadata": {},
     "output_type": "execute_result"
    }
   ],
   "source": [
    "df.tail(num=10)"
   ]
  },
  {
   "cell_type": "code",
   "execution_count": null,
   "id": "40eac649",
   "metadata": {
    "jupyter": {
     "source_hidden": true
    },
    "papermill": {
     "duration": 0.014133,
     "end_time": "2023-04-13T16:36:00.955231",
     "exception": false,
     "start_time": "2023-04-13T16:36:00.941098",
     "status": "completed"
    },
    "tags": []
   },
   "outputs": [],
   "source": []
  }
 ],
 "metadata": {
  "kernelspec": {
   "display_name": "Python 3 (ipykernel)",
   "language": "python",
   "name": "python3"
  },
  "language_info": {
   "codemirror_mode": {
    "name": "ipython",
    "version": 3
   },
   "file_extension": ".py",
   "mimetype": "text/x-python",
   "name": "python",
   "nbconvert_exporter": "python",
   "pygments_lexer": "ipython3",
   "version": "3.9.16"
  },
  "papermill": {
   "default_parameters": {},
   "duration": 53.75691,
   "end_time": "2023-04-13T16:36:03.588760",
   "environment_variables": {},
   "exception": null,
   "input_path": "/opt/airflow/dags/notebooks/get_models.ipynb",
   "output_path": "/opt/airflow/dags/notebooks/outputs/get_models.ipynb",
   "parameters": {},
   "start_time": "2023-04-13T16:35:09.831850",
   "version": "2.4.0"
  }
 },
 "nbformat": 4,
 "nbformat_minor": 5
}