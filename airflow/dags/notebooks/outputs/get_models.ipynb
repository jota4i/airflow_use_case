{
 "cells": [
  {
   "cell_type": "code",
   "execution_count": 1,
   "id": "92df8689",
   "metadata": {
    "execution": {
     "iopub.execute_input": "2023-04-12T13:40:22.028700Z",
     "iopub.status.busy": "2023-04-12T13:40:22.028277Z",
     "iopub.status.idle": "2023-04-12T13:40:22.274268Z",
     "shell.execute_reply": "2023-04-12T13:40:22.272254Z"
    },
    "jupyter": {
     "source_hidden": true
    },
    "papermill": {
     "duration": 0.273887,
     "end_time": "2023-04-12T13:40:22.277372",
     "exception": false,
     "start_time": "2023-04-12T13:40:22.003485",
     "status": "completed"
    },
    "tags": []
   },
   "outputs": [],
   "source": [
    "from pyspark.sql import SparkSession"
   ]
  },
  {
   "cell_type": "code",
   "execution_count": 2,
   "id": "75422074",
   "metadata": {
    "execution": {
     "iopub.execute_input": "2023-04-12T13:40:22.318504Z",
     "iopub.status.busy": "2023-04-12T13:40:22.317712Z",
     "iopub.status.idle": "2023-04-12T13:40:22.341641Z",
     "shell.execute_reply": "2023-04-12T13:40:22.340014Z"
    },
    "jupyter": {
     "source_hidden": true
    },
    "papermill": {
     "duration": 0.047031,
     "end_time": "2023-04-12T13:40:22.344461",
     "exception": false,
     "start_time": "2023-04-12T13:40:22.297430",
     "status": "completed"
    },
    "tags": []
   },
   "outputs": [
    {
     "data": {
      "text/plain": [
       "'spark://spark:7077'"
      ]
     },
     "execution_count": 2,
     "metadata": {},
     "output_type": "execute_result"
    }
   ],
   "source": [
    "import os\n",
    "\n",
    "from dotenv import load_dotenv\n",
    "\n",
    "load_dotenv()\n",
    "\n",
    "SPARK_MASTER_ADDRESS = os.getenv(\"SPARK_MASTER_ADDRESS\")\n",
    "\n",
    "SPARK_MASTER_ADDRESS"
   ]
  },
  {
   "cell_type": "code",
   "execution_count": 3,
   "id": "3a172f92",
   "metadata": {
    "execution": {
     "iopub.execute_input": "2023-04-12T13:40:22.389186Z",
     "iopub.status.busy": "2023-04-12T13:40:22.388241Z",
     "iopub.status.idle": "2023-04-12T13:40:37.791738Z",
     "shell.execute_reply": "2023-04-12T13:40:37.789561Z"
    },
    "jupyter": {
     "source_hidden": true
    },
    "papermill": {
     "duration": 15.438172,
     "end_time": "2023-04-12T13:40:37.802072",
     "exception": false,
     "start_time": "2023-04-12T13:40:22.363900",
     "status": "completed"
    },
    "tags": []
   },
   "outputs": [
    {
     "name": "stderr",
     "output_type": "stream",
     "text": [
      "/home/airflow/.local/lib/python3.9/site-packages/pyspark/bin/load-spark-env.sh: line 68: ps: command not found\n"
     ]
    },
    {
     "name": "stderr",
     "output_type": "stream",
     "text": [
      "Setting default log level to \"WARN\".\n",
      "To adjust logging level use sc.setLogLevel(newLevel). For SparkR, use setLogLevel(newLevel).\n"
     ]
    },
    {
     "name": "stdout",
     "output_type": "stream",
     "text": [
      "23/04/12 13:40:33 WARN NativeCodeLoader: Unable to load native-hadoop library for your platform... using builtin-java classes where applicable\n"
     ]
    }
   ],
   "source": [
    "spark = SparkSession.builder \\\n",
    "    .master(SPARK_MASTER_ADDRESS) \\\n",
    "    .config(\"spark.jars\", \"https://storage.googleapis.com/hadoop-lib/gcs/gcs-connector-hadoop3-latest.jar\") \\\n",
    "    .appName(f\"notebook_spark\") \\\n",
    "    .getOrCreate()"
   ]
  },
  {
   "cell_type": "code",
   "execution_count": 4,
   "id": "fe733557",
   "metadata": {
    "execution": {
     "iopub.execute_input": "2023-04-12T13:40:37.866405Z",
     "iopub.status.busy": "2023-04-12T13:40:37.865156Z",
     "iopub.status.idle": "2023-04-12T13:41:08.078512Z",
     "shell.execute_reply": "2023-04-12T13:41:08.076546Z"
    },
    "jupyter": {
     "source_hidden": true
    },
    "papermill": {
     "duration": 30.247761,
     "end_time": "2023-04-12T13:41:08.081691",
     "exception": false,
     "start_time": "2023-04-12T13:40:37.833930",
     "status": "completed"
    },
    "tags": []
   },
   "outputs": [
    {
     "name": "stderr",
     "output_type": "stream",
     "text": [
      "\r",
      "[Stage 0:>                                                          (0 + 0) / 1]\r"
     ]
    },
    {
     "name": "stderr",
     "output_type": "stream",
     "text": [
      "\r",
      "[Stage 0:>                                                          (0 + 1) / 1]\r"
     ]
    },
    {
     "name": "stderr",
     "output_type": "stream",
     "text": [
      "\r",
      "                                                                                \r"
     ]
    }
   ],
   "source": [
    "df = spark.read.parquet(\"gs://airflow4i_lake/raw/brand/carros/*\")"
   ]
  },
  {
   "cell_type": "code",
   "execution_count": null,
   "id": "9af0197c",
   "metadata": {
    "jupyter": {
     "source_hidden": true
    },
    "papermill": {
     "duration": 0.016639,
     "end_time": "2023-04-12T13:41:08.115583",
     "exception": false,
     "start_time": "2023-04-12T13:41:08.098944",
     "status": "completed"
    },
    "tags": []
   },
   "outputs": [],
   "source": []
  }
 ],
 "metadata": {
  "kernelspec": {
   "display_name": "Python 3 (ipykernel)",
   "language": "python",
   "name": "python3"
  },
  "language_info": {
   "codemirror_mode": {
    "name": "ipython",
    "version": 3
   },
   "file_extension": ".py",
   "mimetype": "text/x-python",
   "name": "python",
   "nbconvert_exporter": "python",
   "pygments_lexer": "ipython3",
   "version": "3.9.16"
  },
  "papermill": {
   "default_parameters": {},
   "duration": 53.74793,
   "end_time": "2023-04-12T13:41:10.758401",
   "environment_variables": {},
   "exception": null,
   "input_path": "/opt/airflow/dags/notebooks/get_models.ipynb",
   "output_path": "/opt/airflow/dags/notebooks/outputs/get_models.ipynb",
   "parameters": {},
   "start_time": "2023-04-12T13:40:17.010471",
   "version": "2.4.0"
  }
 },
 "nbformat": 4,
 "nbformat_minor": 5
}