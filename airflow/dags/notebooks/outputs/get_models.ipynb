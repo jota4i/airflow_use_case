{
 "cells": [
  {
   "cell_type": "code",
   "execution_count": 1,
   "id": "92df8689",
   "metadata": {
    "execution": {
     "iopub.execute_input": "2023-04-11T18:42:19.553342Z",
     "iopub.status.busy": "2023-04-11T18:42:19.552944Z",
     "iopub.status.idle": "2023-04-11T18:42:19.810785Z",
     "shell.execute_reply": "2023-04-11T18:42:19.809266Z"
    },
    "jupyter": {
     "source_hidden": true
    },
    "papermill": {
     "duration": 0.282176,
     "end_time": "2023-04-11T18:42:19.814497",
     "exception": false,
     "start_time": "2023-04-11T18:42:19.532321",
     "status": "completed"
    },
    "tags": []
   },
   "outputs": [],
   "source": [
    "from pyspark.sql import SparkSession"
   ]
  },
  {
   "cell_type": "code",
   "execution_count": 2,
   "id": "75422074",
   "metadata": {
    "execution": {
     "iopub.execute_input": "2023-04-11T18:42:19.850280Z",
     "iopub.status.busy": "2023-04-11T18:42:19.848590Z",
     "iopub.status.idle": "2023-04-11T18:42:19.869707Z",
     "shell.execute_reply": "2023-04-11T18:42:19.868048Z"
    },
    "jupyter": {
     "source_hidden": true
    },
    "papermill": {
     "duration": 0.040464,
     "end_time": "2023-04-11T18:42:19.872604",
     "exception": false,
     "start_time": "2023-04-11T18:42:19.832140",
     "status": "completed"
    },
    "tags": []
   },
   "outputs": [
    {
     "data": {
      "text/plain": [
       "'spark://spark:7077'"
      ]
     },
     "execution_count": 2,
     "metadata": {},
     "output_type": "execute_result"
    }
   ],
   "source": [
    "import os\n",
    "\n",
    "from dotenv import load_dotenv\n",
    "\n",
    "load_dotenv()\n",
    "\n",
    "SPARK_MASTER_ADDRESS = os.getenv(\"SPARK_MASTER_ADDRESS\")\n",
    "\n",
    "SPARK_MASTER_ADDRESS"
   ]
  },
  {
   "cell_type": "code",
   "execution_count": 3,
   "id": "3a172f92",
   "metadata": {
    "execution": {
     "iopub.execute_input": "2023-04-11T18:42:19.905720Z",
     "iopub.status.busy": "2023-04-11T18:42:19.905228Z",
     "iopub.status.idle": "2023-04-11T18:42:35.228996Z",
     "shell.execute_reply": "2023-04-11T18:42:35.221128Z"
    },
    "jupyter": {
     "source_hidden": true
    },
    "papermill": {
     "duration": 15.347091,
     "end_time": "2023-04-11T18:42:35.235086",
     "exception": false,
     "start_time": "2023-04-11T18:42:19.887995",
     "status": "completed"
    },
    "tags": []
   },
   "outputs": [
    {
     "name": "stderr",
     "output_type": "stream",
     "text": [
      "/home/airflow/.local/lib/python3.9/site-packages/pyspark/bin/load-spark-env.sh: line 68: ps: command not found\n"
     ]
    },
    {
     "name": "stderr",
     "output_type": "stream",
     "text": [
      "Setting default log level to \"WARN\".\n",
      "To adjust logging level use sc.setLogLevel(newLevel). For SparkR, use setLogLevel(newLevel).\n"
     ]
    },
    {
     "name": "stdout",
     "output_type": "stream",
     "text": [
      "23/04/11 18:42:31 WARN NativeCodeLoader: Unable to load native-hadoop library for your platform... using builtin-java classes where applicable\n"
     ]
    }
   ],
   "source": [
    "spark = SparkSession.builder \\\n",
    "    .master(SPARK_MASTER_ADDRESS) \\\n",
    "    .config(\"spark.jars\", \"https://storage.googleapis.com/hadoop-lib/gcs/gcs-connector-hadoop3-latest.jar\") \\\n",
    "    .appName(f\"notebook_spark\") \\\n",
    "    .getOrCreate()"
   ]
  },
  {
   "cell_type": "code",
   "execution_count": 4,
   "id": "fe733557",
   "metadata": {
    "execution": {
     "iopub.execute_input": "2023-04-11T18:42:35.288443Z",
     "iopub.status.busy": "2023-04-11T18:42:35.287714Z",
     "iopub.status.idle": "2023-04-11T18:43:03.571908Z",
     "shell.execute_reply": "2023-04-11T18:43:03.569701Z"
    },
    "jupyter": {
     "source_hidden": true
    },
    "papermill": {
     "duration": 28.313769,
     "end_time": "2023-04-11T18:43:03.576056",
     "exception": false,
     "start_time": "2023-04-11T18:42:35.262287",
     "status": "completed"
    },
    "tags": []
   },
   "outputs": [
    {
     "name": "stderr",
     "output_type": "stream",
     "text": [
      "\r",
      "[Stage 0:>                                                          (0 + 0) / 1]\r"
     ]
    },
    {
     "name": "stderr",
     "output_type": "stream",
     "text": [
      "\r",
      "[Stage 0:>                                                          (0 + 1) / 1]\r"
     ]
    },
    {
     "name": "stderr",
     "output_type": "stream",
     "text": [
      "\r",
      "                                                                                \r"
     ]
    }
   ],
   "source": [
    "df = spark.read.parquet(\"gs://airflow4i_lake/raw/brand/carros/*\")"
   ]
  },
  {
   "cell_type": "code",
   "execution_count": null,
   "id": "9af0197c",
   "metadata": {
    "jupyter": {
     "source_hidden": true
    },
    "papermill": {
     "duration": 0.019558,
     "end_time": "2023-04-11T18:43:03.614885",
     "exception": false,
     "start_time": "2023-04-11T18:43:03.595327",
     "status": "completed"
    },
    "tags": []
   },
   "outputs": [],
   "source": []
  }
 ],
 "metadata": {
  "kernelspec": {
   "display_name": "Python 3 (ipykernel)",
   "language": "python",
   "name": "python3"
  },
  "language_info": {
   "codemirror_mode": {
    "name": "ipython",
    "version": 3
   },
   "file_extension": ".py",
   "mimetype": "text/x-python",
   "name": "python",
   "nbconvert_exporter": "python",
   "pygments_lexer": "ipython3",
   "version": "3.9.16"
  },
  "papermill": {
   "default_parameters": {},
   "duration": 49.796526,
   "end_time": "2023-04-11T18:43:06.261704",
   "environment_variables": {},
   "exception": null,
   "input_path": "/opt/airflow/dags/notebooks/get_models.ipynb",
   "output_path": "/opt/airflow/dags/notebooks/outputs/get_models.ipynb",
   "parameters": {},
   "start_time": "2023-04-11T18:42:16.465178",
   "version": "2.4.0"
  }
 },
 "nbformat": 4,
 "nbformat_minor": 5
}