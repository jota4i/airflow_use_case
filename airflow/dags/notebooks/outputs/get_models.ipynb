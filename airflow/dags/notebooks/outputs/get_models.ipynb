{
 "cells": [
  {
   "cell_type": "code",
   "execution_count": 1,
   "id": "92df8689",
   "metadata": {
    "execution": {
     "iopub.execute_input": "2023-04-13T15:35:17.426821Z",
     "iopub.status.busy": "2023-04-13T15:35:17.425460Z",
     "iopub.status.idle": "2023-04-13T15:35:17.861654Z",
     "shell.execute_reply": "2023-04-13T15:35:17.859835Z"
    },
    "jupyter": {
     "source_hidden": true
    },
    "papermill": {
     "duration": 0.474423,
     "end_time": "2023-04-13T15:35:17.864791",
     "exception": false,
     "start_time": "2023-04-13T15:35:17.390368",
     "status": "completed"
    },
    "tags": []
   },
   "outputs": [],
   "source": [
    "from pyspark.sql import SparkSession"
   ]
  },
  {
   "cell_type": "code",
   "execution_count": 2,
   "id": "75422074",
   "metadata": {
    "execution": {
     "iopub.execute_input": "2023-04-13T15:35:17.900860Z",
     "iopub.status.busy": "2023-04-13T15:35:17.899807Z",
     "iopub.status.idle": "2023-04-13T15:35:17.923542Z",
     "shell.execute_reply": "2023-04-13T15:35:17.921677Z"
    },
    "jupyter": {
     "source_hidden": true
    },
    "papermill": {
     "duration": 0.045656,
     "end_time": "2023-04-13T15:35:17.926880",
     "exception": false,
     "start_time": "2023-04-13T15:35:17.881224",
     "status": "completed"
    },
    "tags": []
   },
   "outputs": [
    {
     "data": {
      "text/plain": [
       "'spark://spark:7077'"
      ]
     },
     "execution_count": 2,
     "metadata": {},
     "output_type": "execute_result"
    }
   ],
   "source": [
    "import os\n",
    "\n",
    "from dotenv import load_dotenv\n",
    "\n",
    "load_dotenv()\n",
    "\n",
    "SPARK_MASTER_ADDRESS = os.getenv(\"SPARK_MASTER_ADDRESS\")\n",
    "\n",
    "SPARK_MASTER_ADDRESS"
   ]
  },
  {
   "cell_type": "code",
   "execution_count": 3,
   "id": "3a172f92",
   "metadata": {
    "execution": {
     "iopub.execute_input": "2023-04-13T15:35:17.975838Z",
     "iopub.status.busy": "2023-04-13T15:35:17.974576Z",
     "iopub.status.idle": "2023-04-13T15:35:32.319076Z",
     "shell.execute_reply": "2023-04-13T15:35:32.317287Z"
    },
    "jupyter": {
     "source_hidden": true
    },
    "papermill": {
     "duration": 14.38305,
     "end_time": "2023-04-13T15:35:32.328304",
     "exception": false,
     "start_time": "2023-04-13T15:35:17.945254",
     "status": "completed"
    },
    "tags": []
   },
   "outputs": [
    {
     "name": "stderr",
     "output_type": "stream",
     "text": [
      "/home/airflow/.local/lib/python3.9/site-packages/pyspark/bin/load-spark-env.sh: line 68: ps: command not found\n"
     ]
    },
    {
     "name": "stderr",
     "output_type": "stream",
     "text": [
      "Setting default log level to \"WARN\".\n",
      "To adjust logging level use sc.setLogLevel(newLevel). For SparkR, use setLogLevel(newLevel).\n"
     ]
    },
    {
     "name": "stdout",
     "output_type": "stream",
     "text": [
      "23/04/13 15:35:28 WARN NativeCodeLoader: Unable to load native-hadoop library for your platform... using builtin-java classes where applicable\n"
     ]
    }
   ],
   "source": [
    "spark = SparkSession.builder \\\n",
    "    .master(SPARK_MASTER_ADDRESS) \\\n",
    "    .config(\"spark.jars\", \"https://storage.googleapis.com/hadoop-lib/gcs/gcs-connector-hadoop3-latest.jar\") \\\n",
    "    .appName(f\"notebook_spark\") \\\n",
    "    .getOrCreate()"
   ]
  },
  {
   "cell_type": "code",
   "execution_count": 4,
   "id": "fe733557",
   "metadata": {
    "execution": {
     "iopub.execute_input": "2023-04-13T15:35:32.390087Z",
     "iopub.status.busy": "2023-04-13T15:35:32.386170Z",
     "iopub.status.idle": "2023-04-13T15:35:55.157050Z",
     "shell.execute_reply": "2023-04-13T15:35:55.155261Z"
    },
    "jupyter": {
     "source_hidden": true
    },
    "papermill": {
     "duration": 22.803849,
     "end_time": "2023-04-13T15:35:55.160326",
     "exception": false,
     "start_time": "2023-04-13T15:35:32.356477",
     "status": "completed"
    },
    "tags": []
   },
   "outputs": [
    {
     "name": "stderr",
     "output_type": "stream",
     "text": [
      "\r",
      "[Stage 0:>                                                          (0 + 0) / 1]\r"
     ]
    },
    {
     "name": "stderr",
     "output_type": "stream",
     "text": [
      "\r",
      "[Stage 0:>                                                          (0 + 1) / 1]\r"
     ]
    },
    {
     "name": "stderr",
     "output_type": "stream",
     "text": [
      "\r",
      "                                                                                \r"
     ]
    }
   ],
   "source": [
    "df = spark.read.parquet(\"gs://airflow4i_lake/raw/brand/carros/*\")"
   ]
  },
  {
   "cell_type": "code",
   "execution_count": 5,
   "id": "9af0197c",
   "metadata": {
    "execution": {
     "iopub.execute_input": "2023-04-13T15:35:55.203595Z",
     "iopub.status.busy": "2023-04-13T15:35:55.201970Z",
     "iopub.status.idle": "2023-04-13T15:36:09.879785Z",
     "shell.execute_reply": "2023-04-13T15:36:09.876948Z"
    },
    "jupyter": {
     "source_hidden": true
    },
    "papermill": {
     "duration": 14.70602,
     "end_time": "2023-04-13T15:36:09.884661",
     "exception": false,
     "start_time": "2023-04-13T15:35:55.178641",
     "status": "completed"
    },
    "tags": []
   },
   "outputs": [
    {
     "name": "stderr",
     "output_type": "stream",
     "text": [
      "\r",
      "[Stage 1:>                                                          (0 + 1) / 1]\r"
     ]
    },
    {
     "name": "stderr",
     "output_type": "stream",
     "text": [
      "\r",
      "                                                                                \r"
     ]
    }
   ],
   "source": [
    "df.write.mode(\"overwrite\").parquet(\n",
    "        f\"gs://airflow4i_lake/trusted/brand/carros/\", compression=\"snappy\"\n",
    "    )"
   ]
  },
  {
   "cell_type": "code",
   "execution_count": 6,
   "id": "f2b3b480",
   "metadata": {
    "execution": {
     "iopub.execute_input": "2023-04-13T15:36:09.937008Z",
     "iopub.status.busy": "2023-04-13T15:36:09.934488Z",
     "iopub.status.idle": "2023-04-13T15:36:11.570744Z",
     "shell.execute_reply": "2023-04-13T15:36:11.568152Z"
    },
    "jupyter": {
     "source_hidden": true
    },
    "papermill": {
     "duration": 1.66634,
     "end_time": "2023-04-13T15:36:11.575723",
     "exception": false,
     "start_time": "2023-04-13T15:36:09.909383",
     "status": "completed"
    },
    "tags": []
   },
   "outputs": [
    {
     "name": "stderr",
     "output_type": "stream",
     "text": [
      "\r",
      "[Stage 2:>                                                          (0 + 1) / 1]\r"
     ]
    },
    {
     "name": "stderr",
     "output_type": "stream",
     "text": [
      "\r",
      "                                                                                \r"
     ]
    },
    {
     "data": {
      "text/plain": [
       "[Row(codigo='125', nome='SSANGYONG'),\n",
       " Row(codigo='54', nome='Subaru'),\n",
       " Row(codigo='55', nome='Suzuki'),\n",
       " Row(codigo='165', nome='TAC'),\n",
       " Row(codigo='56', nome='Toyota'),\n",
       " Row(codigo='57', nome='Troller'),\n",
       " Row(codigo='58', nome='Volvo'),\n",
       " Row(codigo='59', nome='VW - VolksWagen'),\n",
       " Row(codigo='163', nome='Wake'),\n",
       " Row(codigo='120', nome='Walk')]"
      ]
     },
     "execution_count": 6,
     "metadata": {},
     "output_type": "execute_result"
    }
   ],
   "source": [
    "df.tail(num=10)"
   ]
  },
  {
   "cell_type": "code",
   "execution_count": null,
   "id": "40eac649",
   "metadata": {
    "jupyter": {
     "source_hidden": true
    },
    "papermill": {
     "duration": 0.026957,
     "end_time": "2023-04-13T15:36:11.627036",
     "exception": false,
     "start_time": "2023-04-13T15:36:11.600079",
     "status": "completed"
    },
    "tags": []
   },
   "outputs": [],
   "source": []
  }
 ],
 "metadata": {
  "kernelspec": {
   "display_name": "Python 3 (ipykernel)",
   "language": "python",
   "name": "python3"
  },
  "language_info": {
   "codemirror_mode": {
    "name": "ipython",
    "version": 3
   },
   "file_extension": ".py",
   "mimetype": "text/x-python",
   "name": "python",
   "nbconvert_exporter": "python",
   "pygments_lexer": "ipython3",
   "version": "3.9.16"
  },
  "papermill": {
   "default_parameters": {},
   "duration": 60.647928,
   "end_time": "2023-04-13T15:36:14.283034",
   "environment_variables": {},
   "exception": null,
   "input_path": "/opt/airflow/dags/notebooks/get_models.ipynb",
   "output_path": "/opt/airflow/dags/notebooks/outputs/get_models.ipynb",
   "parameters": {},
   "start_time": "2023-04-13T15:35:13.635106",
   "version": "2.4.0"
  }
 },
 "nbformat": 4,
 "nbformat_minor": 5
}